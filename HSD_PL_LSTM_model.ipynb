{
 "cells": [
  {
   "cell_type": "markdown",
   "metadata": {},
   "source": [
    "# Hate Speech Detector - PL - LSTM model"
   ]
  },
  {
   "cell_type": "code",
   "execution_count": 1,
   "metadata": {},
   "outputs": [],
   "source": [
    "import os\n",
    "import pandas as pd\n",
    "import csv\n",
    "import numpy as np\n",
    "import pickle\n",
    "from klepto.archives import dir_archive\n",
    "\n",
    "from sklearn.metrics import confusion_matrix\n",
    "\n",
    "import tensorflow as tf\n",
    "from tensorflow.keras import Model\n",
    "from tensorflow.keras.callbacks import Callback\n",
    "from tensorflow.keras.layers import Input, Dense, SimpleRNN, LSTM, Concatenate\n",
    "from tensorflow.keras.layers import Lambda\n",
    "from tensorflow import split\n",
    "from tensorflow.keras.utils import to_categorical\n",
    "\n",
    "import matplotlib.pyplot as plt\n",
    "from tqdm.notebook import tqdm\n",
    "%matplotlib inline"
   ]
  },
  {
   "cell_type": "markdown",
   "metadata": {},
   "source": [
    "## Load features & labels"
   ]
  },
  {
   "cell_type": "code",
   "execution_count": 2,
   "metadata": {},
   "outputs": [],
   "source": [
    "archive = dir_archive('hsd/Poleval2019/X_y_lstm', {}, cached=True)\n",
    "archive.load()\n",
    "\n",
    "features = archive['features']\n",
    "labels = archive['labels']\n",
    "first_card = archive['wt_num']"
   ]
  },
  {
   "cell_type": "code",
   "execution_count": 3,
   "metadata": {},
   "outputs": [
    {
     "data": {
      "text/plain": [
       "(11041, 40, 200)"
      ]
     },
     "execution_count": 3,
     "metadata": {},
     "output_type": "execute_result"
    }
   ],
   "source": [
    "features.shape"
   ]
  },
  {
   "cell_type": "code",
   "execution_count": 4,
   "metadata": {},
   "outputs": [
    {
     "data": {
      "text/plain": [
       "13"
      ]
     },
     "execution_count": 4,
     "metadata": {},
     "output_type": "execute_result"
    }
   ],
   "source": [
    "first_card"
   ]
  },
  {
   "cell_type": "markdown",
   "metadata": {},
   "source": [
    "## Model"
   ]
  },
  {
   "cell_type": "markdown",
   "metadata": {},
   "source": [
    "The best model was selected using a GridSearch with 5-fold CV."
   ]
  },
  {
   "cell_type": "code",
   "execution_count": 5,
   "metadata": {},
   "outputs": [],
   "source": [
    "# hyperparams\n",
    "LAYERS = 2 # convolutional layers count\n",
    "LR = 0.001  # learning rate\n",
    "OPTIM = tf.keras.optimizers.Adam  # optimizer\n",
    "EPOCHS = 10\n",
    "\n",
    "# params\n",
    "BATCH_SIZE = 25  # size of input batch\n",
    "INIT = 'random_uniform'  # trainable param initializer\n",
    "RNN_UNITS = 64  # recurrent network working units"
   ]
  },
  {
   "cell_type": "code",
   "execution_count": 6,
   "metadata": {},
   "outputs": [],
   "source": [
    "SPLIT_RATIO = 0.7"
   ]
  },
  {
   "cell_type": "code",
   "execution_count": 7,
   "metadata": {},
   "outputs": [
    {
     "name": "stdout",
     "output_type": "stream",
     "text": [
      "Train x: 7728\n",
      "Train y: 7728\n",
      "Test x: 3313\n",
      "Test y: 3313\n"
     ]
    }
   ],
   "source": [
    "X_train = features[:int(SPLIT_RATIO*len(features))]\n",
    "y_train = labels[:int(SPLIT_RATIO*len(labels))]\n",
    "X_test = features[int(SPLIT_RATIO*len(features)):]\n",
    "y_test = labels[int(SPLIT_RATIO*len(labels)):]\n",
    "\n",
    "y_train = to_categorical(y_train)\n",
    "y_test = to_categorical(y_test)\n",
    "\n",
    "print('Train x: {}'.format(len(X_train)))\n",
    "print('Train y: {}'.format(len(y_train)))\n",
    "print('Test x: {}'.format(len(X_test)))\n",
    "print('Test y: {}'.format(len(y_test)))"
   ]
  },
  {
   "cell_type": "code",
   "execution_count": 8,
   "metadata": {},
   "outputs": [],
   "source": [
    "class MetricsCallback(Callback):\n",
    "    def __init__(self):\n",
    "        super(MetricsCallback, self).__init__()\n",
    "        self.val_f1s0 = []\n",
    "        self.val_f1s1 = []\n",
    "    \n",
    "    def on_epoch_end(self, epoch, logs={}):\n",
    "        val_predict = np.asarray(tf.argmax(self.model.predict(X_test), axis=1))\n",
    "        val_true = np.asarray(tf.argmax(y_test, axis=1))\n",
    "        c_m = confusion_matrix(val_true, val_predict, labels=[0, 1])\n",
    "        self.val_f1s0.append(2*float(c_m[0][0])/(2*float(c_m[0][0]) + c_m[0][1] + c_m[1][0]))\n",
    "        self.val_f1s1.append(2*float(c_m[1][1])/(2*float(c_m[1][1]) + c_m[1][0] + c_m[0][1]))"
   ]
  },
  {
   "cell_type": "code",
   "execution_count": 9,
   "metadata": {},
   "outputs": [],
   "source": [
    "class LSTMModel():\n",
    "    def __init__(self, wt_card, input_shape, model_type='lstm', name='conv_model', **kwargs):\n",
    "        self.wt_card = wt_card\n",
    "        self.type = LSTM if model_type == 'lstm' else SimpleRNN\n",
    "        \n",
    "        # hyperparams\n",
    "        self.layers = LAYERS if 'layers' not in kwargs else kwargs['layers']\n",
    "        self.lr = LR if 'lr' not in kwargs else kwargs['lr']\n",
    "        self.optim = OPTIM(learning_rate=self.lr) if 'optim' not in kwargs else kwargs['optim'](learning_rate=self.lr)\n",
    "        self.epochs = EPOCHS if 'epochs' not in kwargs else kwargs['epochs']\n",
    "        \n",
    "        # params\n",
    "        self.batch_size = BATCH_SIZE if 'batch_size' not in kwargs else kwargs['batch_size']\n",
    "        self.init = INIT if 'init' not in kwargs else kwargs['init']\n",
    "        self.rnn_units = RNN_UNITS if 'rnn_units' not in kwargs else kwargs['rnn_units']\n",
    "        \n",
    "        # layers\n",
    "        inputs = Input(shape=input_shape, name='features')\n",
    "        wt_inputs, pos_inputs = Lambda(lambda x: split(x, [self.wt_card, x.shape[1] - self.wt_card], axis=1), name='wt_pos_split')(inputs)\n",
    "        \n",
    "        x1 = self.type(units=self.rnn_units, name='wt_recurrent',\n",
    "                       kernel_initializer=self.init, bias_initializer=self.init)(wt_inputs)\n",
    "        x2 = self.type(units=self.rnn_units, name='pos_recurrent',\n",
    "                       kernel_initializer=self.init, bias_initializer=self.init)(pos_inputs)\n",
    "        \n",
    "        x = Concatenate(axis=1, name='concatenation')([x1, x2])\n",
    "        \n",
    "        x = Dense(64, activation='relu', name='dense_1',\n",
    "                  kernel_initializer='random_normal', bias_initializer='random_normal')(x)\n",
    "        x = Dense(64, activation='relu', name='dense_2',\n",
    "                  kernel_initializer='random_normal', bias_initializer='random_normal')(x)\n",
    "        outputs = Dense(2, activation='softmax', name='predictions',\n",
    "                        kernel_initializer='random_normal', bias_initializer='random_normal')(x)\n",
    "        \n",
    "        self.name = name\n",
    "        self.model = Model(inputs=inputs, outputs=outputs, name=name)\n",
    "        self.mc = MetricsCallback()\n",
    "    \n",
    "    def summary(self):\n",
    "        return self.model.summary()\n",
    "    \n",
    "    def compile(self):\n",
    "        self.model.compile(optimizer=self.optim,\n",
    "                           loss=tf.keras.losses.CategoricalCrossentropy(),\n",
    "                           metrics=[tf.keras.metrics.CategoricalAccuracy()])\n",
    "    \n",
    "    def fit(self, X_tr, y_tr, X_ev, y_ev):\n",
    "        return self.model.fit(X_tr, y_tr, batch_size=self.batch_size, epochs=self.epochs,\n",
    "                              validation_data=(X_ev, y_ev), callbacks=[self.mc])\n",
    "    \n",
    "    def predict(self, X_t):\n",
    "        return self.model.predict(X_t)\n",
    "    \n",
    "    def save(self, file_name):\n",
    "        self.model.save(file_name)"
   ]
  },
  {
   "cell_type": "code",
   "execution_count": 10,
   "metadata": {},
   "outputs": [],
   "source": [
    "def models_comparison_bars(df, title, save_file=None):\n",
    "    fig, axs = plt.subplots(1, 3, figsize=(16, 4))\n",
    "    \n",
    "    x = range(1, len(df) + 1)\n",
    "    acc = df['acc'].values\n",
    "    f1s0 = df['f1s0'].values\n",
    "    f1s1 = df['f1s1'].values\n",
    "    \n",
    "    max_acc_id = np.argmax(acc)\n",
    "    max_f1s0_id = np.argmax(f1s0)\n",
    "    max_f1s1_id = np.argmax(f1s1)\n",
    "    \n",
    "    axs[0].bar(x, acc, color='r')\n",
    "    axs[0].set_xlabel('Model number')\n",
    "    axs[0].set_ylabel('Accuracy')\n",
    "    axs[0].set_ylim([0, 1])\n",
    "    axs[0].set_title('Accuracy | max ({}) at: {}'.format(np.round(np.max(acc), 2), max_acc_id+1))\n",
    "    axs[0].patches[max_acc_id].set_facecolor('g')\n",
    "    \n",
    "    axs[1].bar(x, f1s0, color='b')\n",
    "    axs[1].set_xlabel('Model number')\n",
    "    axs[1].set_ylabel('F1 score (no hate)')\n",
    "    axs[1].set_title('F1 score (no hate) | max ({}) at: {}'.format(np.round(np.max(f1s0), 2), max_f1s0_id+1))\n",
    "    axs[1].set_ylim([0, 1])\n",
    "    axs[1].patches[max_f1s0_id].set_facecolor('g')\n",
    "    \n",
    "    axs[2].bar(x, f1s1, color='m')\n",
    "    axs[2].set_xlabel('Model number')\n",
    "    axs[2].set_ylabel('F1 score (hate speech)')\n",
    "    axs[2].set_title('F1 score (hate speech) | max ({}) at: {}'.format(np.round(np.max(f1s1), 2),\n",
    "                                                                       max_f1s1_id+1))\n",
    "    axs[2].set_ylim([0, 1])\n",
    "    axs[2].patches[max_f1s1_id].set_facecolor('g')\n",
    "    \n",
    "    fig.suptitle(title)\n",
    "    \n",
    "    if save_file:\n",
    "        plt.savefig(save_file)\n",
    "    plt.show()"
   ]
  },
  {
   "cell_type": "markdown",
   "metadata": {},
   "source": [
    "## Model hyperparams researching"
   ]
  },
  {
   "cell_type": "code",
   "execution_count": 11,
   "metadata": {},
   "outputs": [],
   "source": [
    "layers_options = [2, 3, 4]\n",
    "lr_options = [0.1, 0.01, 0.001]\n",
    "optim_options = [tf.keras.optimizers.Adam, tf.keras.optimizers.SGD]\n",
    "epochs_options = [5, 10, 15]\n",
    "\n",
    "hp_options = []\n",
    "for epochs in [epochs_options[-1]]:  # changed to process 15 epochs (eval. after each 5)\n",
    "    for lr in lr_options:\n",
    "        for optim in optim_options:\n",
    "            for layer in layers_options:\n",
    "                hp_options.append({'lr': lr, 'optim': optim, 'epochs': epochs, 'layers': layer})"
   ]
  },
  {
   "cell_type": "code",
   "execution_count": 12,
   "metadata": {},
   "outputs": [
    {
     "data": {
      "text/html": [
       "<div>\n",
       "<style scoped>\n",
       "    .dataframe tbody tr th:only-of-type {\n",
       "        vertical-align: middle;\n",
       "    }\n",
       "\n",
       "    .dataframe tbody tr th {\n",
       "        vertical-align: top;\n",
       "    }\n",
       "\n",
       "    .dataframe thead th {\n",
       "        text-align: right;\n",
       "    }\n",
       "</style>\n",
       "<table border=\"1\" class=\"dataframe\">\n",
       "  <thead>\n",
       "    <tr style=\"text-align: right;\">\n",
       "      <th></th>\n",
       "      <th>epochs</th>\n",
       "      <th>layers</th>\n",
       "      <th>lr</th>\n",
       "      <th>optim</th>\n",
       "    </tr>\n",
       "  </thead>\n",
       "  <tbody>\n",
       "    <tr>\n",
       "      <th>0</th>\n",
       "      <td>15</td>\n",
       "      <td>2</td>\n",
       "      <td>0.1</td>\n",
       "      <td>&lt;class 'tensorflow.python.keras.optimizer_v2.a...</td>\n",
       "    </tr>\n",
       "    <tr>\n",
       "      <th>1</th>\n",
       "      <td>15</td>\n",
       "      <td>3</td>\n",
       "      <td>0.1</td>\n",
       "      <td>&lt;class 'tensorflow.python.keras.optimizer_v2.a...</td>\n",
       "    </tr>\n",
       "    <tr>\n",
       "      <th>2</th>\n",
       "      <td>15</td>\n",
       "      <td>4</td>\n",
       "      <td>0.1</td>\n",
       "      <td>&lt;class 'tensorflow.python.keras.optimizer_v2.a...</td>\n",
       "    </tr>\n",
       "    <tr>\n",
       "      <th>3</th>\n",
       "      <td>15</td>\n",
       "      <td>2</td>\n",
       "      <td>0.1</td>\n",
       "      <td>&lt;class 'tensorflow.python.keras.optimizer_v2.g...</td>\n",
       "    </tr>\n",
       "    <tr>\n",
       "      <th>4</th>\n",
       "      <td>15</td>\n",
       "      <td>3</td>\n",
       "      <td>0.1</td>\n",
       "      <td>&lt;class 'tensorflow.python.keras.optimizer_v2.g...</td>\n",
       "    </tr>\n",
       "  </tbody>\n",
       "</table>\n",
       "</div>"
      ],
      "text/plain": [
       "   epochs  layers   lr                                              optim\n",
       "0      15       2  0.1  <class 'tensorflow.python.keras.optimizer_v2.a...\n",
       "1      15       3  0.1  <class 'tensorflow.python.keras.optimizer_v2.a...\n",
       "2      15       4  0.1  <class 'tensorflow.python.keras.optimizer_v2.a...\n",
       "3      15       2  0.1  <class 'tensorflow.python.keras.optimizer_v2.g...\n",
       "4      15       3  0.1  <class 'tensorflow.python.keras.optimizer_v2.g..."
      ]
     },
     "execution_count": 12,
     "metadata": {},
     "output_type": "execute_result"
    }
   ],
   "source": [
    "pd.DataFrame(hp_options).head()"
   ]
  },
  {
   "cell_type": "code",
   "execution_count": 13,
   "metadata": {
    "scrolled": true
   },
   "outputs": [],
   "source": [
    "if not os.path.exists('results/pl_lstm/hyperparams_research.csv'):\n",
    "    hp_results = []\n",
    "    for i, opts in enumerate(hp_options):\n",
    "        print('\\nResearching for {}/{} | Hyperparams: {}\\n'.format(i+1, len(hp_options), opts))\n",
    "\n",
    "        hp_model = LSTMModel(wt_card=first_card, input_shape=(40, 200, ), model_type='simple', **opts)\n",
    "        hp_model.compile()\n",
    "        hp_history = hp_model.fit(X_train, y_train, X_test, y_test)\n",
    "\n",
    "        # append means for 5, 10 and 15 epochs\n",
    "        for eps in epochs_options:\n",
    "            hp_results.append({'acc': np.mean(hp_history.history['categorical_accuracy'][:eps]),\n",
    "                               'val_acc': np.mean(hp_history.history['val_categorical_accuracy'][:eps]),\n",
    "                               'loss': np.mean(hp_history.history['val_loss'][:eps]),\n",
    "                               'f1s0': np.mean(hp_model.mc.val_f1s0[:eps]),\n",
    "                               'f1s1': np.mean(hp_model.mc.val_f1s1[:eps])})\n",
    "    \n",
    "    hp_results_df = pd.DataFrame(hp_results)\n",
    "    hp_results_df.to_csv('results/pl_lstm/hyperparams_research.csv')\n",
    "else:\n",
    "    hp_results_df = pd.read_csv('results/pl_lstm/hyperparams_research.csv', index_col=0)"
   ]
  },
  {
   "cell_type": "code",
   "execution_count": 14,
   "metadata": {},
   "outputs": [
    {
     "data": {
      "text/html": [
       "<div>\n",
       "<style scoped>\n",
       "    .dataframe tbody tr th:only-of-type {\n",
       "        vertical-align: middle;\n",
       "    }\n",
       "\n",
       "    .dataframe tbody tr th {\n",
       "        vertical-align: top;\n",
       "    }\n",
       "\n",
       "    .dataframe thead th {\n",
       "        text-align: right;\n",
       "    }\n",
       "</style>\n",
       "<table border=\"1\" class=\"dataframe\">\n",
       "  <thead>\n",
       "    <tr style=\"text-align: right;\">\n",
       "      <th></th>\n",
       "      <th>acc</th>\n",
       "      <th>f1s0</th>\n",
       "      <th>f1s1</th>\n",
       "      <th>loss</th>\n",
       "      <th>val_acc</th>\n",
       "    </tr>\n",
       "  </thead>\n",
       "  <tbody>\n",
       "    <tr>\n",
       "      <th>0</th>\n",
       "      <td>0.937397</td>\n",
       "      <td>0.917143</td>\n",
       "      <td>0.0</td>\n",
       "      <td>0.491875</td>\n",
       "      <td>0.846967</td>\n",
       "    </tr>\n",
       "    <tr>\n",
       "      <th>1</th>\n",
       "      <td>0.937772</td>\n",
       "      <td>0.917143</td>\n",
       "      <td>0.0</td>\n",
       "      <td>0.487696</td>\n",
       "      <td>0.846967</td>\n",
       "    </tr>\n",
       "    <tr>\n",
       "      <th>2</th>\n",
       "      <td>0.937897</td>\n",
       "      <td>0.917143</td>\n",
       "      <td>0.0</td>\n",
       "      <td>0.485320</td>\n",
       "      <td>0.846967</td>\n",
       "    </tr>\n",
       "    <tr>\n",
       "      <th>3</th>\n",
       "      <td>0.936957</td>\n",
       "      <td>0.917143</td>\n",
       "      <td>0.0</td>\n",
       "      <td>0.474359</td>\n",
       "      <td>0.846967</td>\n",
       "    </tr>\n",
       "    <tr>\n",
       "      <th>4</th>\n",
       "      <td>0.937552</td>\n",
       "      <td>0.917143</td>\n",
       "      <td>0.0</td>\n",
       "      <td>0.471360</td>\n",
       "      <td>0.846967</td>\n",
       "    </tr>\n",
       "  </tbody>\n",
       "</table>\n",
       "</div>"
      ],
      "text/plain": [
       "        acc      f1s0  f1s1      loss   val_acc\n",
       "0  0.937397  0.917143   0.0  0.491875  0.846967\n",
       "1  0.937772  0.917143   0.0  0.487696  0.846967\n",
       "2  0.937897  0.917143   0.0  0.485320  0.846967\n",
       "3  0.936957  0.917143   0.0  0.474359  0.846967\n",
       "4  0.937552  0.917143   0.0  0.471360  0.846967"
      ]
     },
     "execution_count": 14,
     "metadata": {},
     "output_type": "execute_result"
    }
   ],
   "source": [
    "hp_results_df.head()"
   ]
  },
  {
   "cell_type": "code",
   "execution_count": 15,
   "metadata": {},
   "outputs": [
    {
     "data": {
      "image/png": "[encoded data removed]",
      "text/plain": [
       "<Figure size 1152x288 with 3 Axes>"
      ]
     },
     "metadata": {
      "needs_background": "light"
     },
     "output_type": "display_data"
    }
   ],
   "source": [
    "models_comparison_bars(hp_results_df, title='Hyperparams research', save_file='results/pl_lstm/hyperparams_research.png')"
   ]
  },
  {
   "cell_type": "code",
   "execution_count": 16,
   "metadata": {},
   "outputs": [
    {
     "data": {
      "text/plain": [
       "\"Best one: {'optim': <class 'tensorflow.python.keras.optimizer_v2.adam.Adam'>, 'epochs': 15, 'lr': 0.001, 'layers': 2} with 10 run epochs\""
      ]
     },
     "execution_count": 16,
     "metadata": {},
     "output_type": "execute_result"
    }
   ],
   "source": [
    "best_h_num = 39\n",
    "'Best one: {} with {} run epochs'.format(hp_options[(best_h_num-1)/3],\n",
    "                                         ((best_h_num-1)%3)*5 if (best_h_num-1)%3 != 0 else 15)"
   ]
  },
  {
   "cell_type": "markdown",
   "metadata": {},
   "source": [
    "## Model params researching"
   ]
  },
  {
   "cell_type": "code",
   "execution_count": 17,
   "metadata": {},
   "outputs": [],
   "source": [
    "batch_size_options = [25, 50, 75, 100]\n",
    "init_options = ['random_uniform', 'random_normal']\n",
    "rnn_units_options = [64, 128, 192]\n",
    "\n",
    "p_options = []\n",
    "for batch_size in batch_size_options:\n",
    "    for init in init_options:\n",
    "        for rnn_units in rnn_units_options:\n",
    "            p_options.append({'batch_size': batch_size,\n",
    "                              'init': init,\n",
    "                              'rnn_units': rnn_units})"
   ]
  },
  {
   "cell_type": "code",
   "execution_count": 18,
   "metadata": {},
   "outputs": [
    {
     "data": {
      "text/html": [
       "<div>\n",
       "<style scoped>\n",
       "    .dataframe tbody tr th:only-of-type {\n",
       "        vertical-align: middle;\n",
       "    }\n",
       "\n",
       "    .dataframe tbody tr th {\n",
       "        vertical-align: top;\n",
       "    }\n",
       "\n",
       "    .dataframe thead th {\n",
       "        text-align: right;\n",
       "    }\n",
       "</style>\n",
       "<table border=\"1\" class=\"dataframe\">\n",
       "  <thead>\n",
       "    <tr style=\"text-align: right;\">\n",
       "      <th></th>\n",
       "      <th>batch_size</th>\n",
       "      <th>init</th>\n",
       "      <th>rnn_units</th>\n",
       "    </tr>\n",
       "  </thead>\n",
       "  <tbody>\n",
       "    <tr>\n",
       "      <th>0</th>\n",
       "      <td>25</td>\n",
       "      <td>random_uniform</td>\n",
       "      <td>64</td>\n",
       "    </tr>\n",
       "    <tr>\n",
       "      <th>1</th>\n",
       "      <td>25</td>\n",
       "      <td>random_uniform</td>\n",
       "      <td>128</td>\n",
       "    </tr>\n",
       "    <tr>\n",
       "      <th>2</th>\n",
       "      <td>25</td>\n",
       "      <td>random_uniform</td>\n",
       "      <td>192</td>\n",
       "    </tr>\n",
       "    <tr>\n",
       "      <th>3</th>\n",
       "      <td>25</td>\n",
       "      <td>random_normal</td>\n",
       "      <td>64</td>\n",
       "    </tr>\n",
       "    <tr>\n",
       "      <th>4</th>\n",
       "      <td>25</td>\n",
       "      <td>random_normal</td>\n",
       "      <td>128</td>\n",
       "    </tr>\n",
       "  </tbody>\n",
       "</table>\n",
       "</div>"
      ],
      "text/plain": [
       "   batch_size            init  rnn_units\n",
       "0          25  random_uniform         64\n",
       "1          25  random_uniform        128\n",
       "2          25  random_uniform        192\n",
       "3          25   random_normal         64\n",
       "4          25   random_normal        128"
      ]
     },
     "execution_count": 18,
     "metadata": {},
     "output_type": "execute_result"
    }
   ],
   "source": [
    "pd.DataFrame(p_options).head()"
   ]
  },
  {
   "cell_type": "code",
   "execution_count": 19,
   "metadata": {
    "scrolled": true
   },
   "outputs": [],
   "source": [
    "if not os.path.exists('results/pl_lstm/params_research.csv'):\n",
    "    p_results = []\n",
    "    for i, opts in enumerate(p_options):\n",
    "        print('\\nResearching for {}/{} | Params: {}\\n'.format(i+1, len(p_options), opts))\n",
    "\n",
    "        p_model = LSTMModel(wt_card=first_card, input_shape=(40, 200, ), model_type='simple', **opts)\n",
    "        p_model.compile()\n",
    "        p_history = p_model.fit(X_train, y_train, X_test, y_test)\n",
    "\n",
    "        p_results.append({'acc': np.mean(p_history.history['categorical_accuracy']),\n",
    "                          'val_acc': np.mean(p_history.history['val_categorical_accuracy']),\n",
    "                          'loss': np.mean(p_history.history['val_loss']),\n",
    "                          'f1s0': np.mean(p_model.mc.val_f1s0),\n",
    "                          'f1s1': np.mean(p_model.mc.val_f1s1)})\n",
    "    \n",
    "    p_results_df = pd.DataFrame(p_results)\n",
    "    p_results_df.to_csv('results/pl_lstm/params_research.csv')\n",
    "else:\n",
    "    p_results_df = pd.read_csv('results/pl_lstm/params_research.csv', index_col=0)"
   ]
  },
  {
   "cell_type": "code",
   "execution_count": 20,
   "metadata": {},
   "outputs": [
    {
     "data": {
      "text/html": [
       "<div>\n",
       "<style scoped>\n",
       "    .dataframe tbody tr th:only-of-type {\n",
       "        vertical-align: middle;\n",
       "    }\n",
       "\n",
       "    .dataframe tbody tr th {\n",
       "        vertical-align: top;\n",
       "    }\n",
       "\n",
       "    .dataframe thead th {\n",
       "        text-align: right;\n",
       "    }\n",
       "</style>\n",
       "<table border=\"1\" class=\"dataframe\">\n",
       "  <thead>\n",
       "    <tr style=\"text-align: right;\">\n",
       "      <th></th>\n",
       "      <th>acc</th>\n",
       "      <th>f1s0</th>\n",
       "      <th>f1s1</th>\n",
       "      <th>loss</th>\n",
       "      <th>val_acc</th>\n",
       "    </tr>\n",
       "  </thead>\n",
       "  <tbody>\n",
       "    <tr>\n",
       "      <th>0</th>\n",
       "      <td>0.987668</td>\n",
       "      <td>0.985997</td>\n",
       "      <td>0.916887</td>\n",
       "      <td>0.084813</td>\n",
       "      <td>0.976034</td>\n",
       "    </tr>\n",
       "    <tr>\n",
       "      <th>1</th>\n",
       "      <td>0.986051</td>\n",
       "      <td>0.981272</td>\n",
       "      <td>0.879877</td>\n",
       "      <td>0.108467</td>\n",
       "      <td>0.967643</td>\n",
       "    </tr>\n",
       "    <tr>\n",
       "      <th>2</th>\n",
       "      <td>0.984511</td>\n",
       "      <td>0.979864</td>\n",
       "      <td>0.873935</td>\n",
       "      <td>0.125280</td>\n",
       "      <td>0.965288</td>\n",
       "    </tr>\n",
       "    <tr>\n",
       "      <th>3</th>\n",
       "      <td>0.987655</td>\n",
       "      <td>0.983682</td>\n",
       "      <td>0.900133</td>\n",
       "      <td>0.083880</td>\n",
       "      <td>0.971959</td>\n",
       "    </tr>\n",
       "    <tr>\n",
       "      <th>4</th>\n",
       "      <td>0.984718</td>\n",
       "      <td>0.983216</td>\n",
       "      <td>0.897805</td>\n",
       "      <td>0.091621</td>\n",
       "      <td>0.971174</td>\n",
       "    </tr>\n",
       "  </tbody>\n",
       "</table>\n",
       "</div>"
      ],
      "text/plain": [
       "        acc      f1s0      f1s1      loss   val_acc\n",
       "0  0.987668  0.985997  0.916887  0.084813  0.976034\n",
       "1  0.986051  0.981272  0.879877  0.108467  0.967643\n",
       "2  0.984511  0.979864  0.873935  0.125280  0.965288\n",
       "3  0.987655  0.983682  0.900133  0.083880  0.971959\n",
       "4  0.984718  0.983216  0.897805  0.091621  0.971174"
      ]
     },
     "execution_count": 20,
     "metadata": {},
     "output_type": "execute_result"
    }
   ],
   "source": [
    "p_results_df.head()"
   ]
  },
  {
   "cell_type": "code",
   "execution_count": 21,
   "metadata": {},
   "outputs": [
    {
     "data": {
      "image/png": "[encoded data removed]",
      "text/plain": [
       "<Figure size 1152x288 with 3 Axes>"
      ]
     },
     "metadata": {
      "needs_background": "light"
     },
     "output_type": "display_data"
    }
   ],
   "source": [
    "models_comparison_bars(p_results_df, title='Params research', save_file='results/pl_lstm/params_research.png')"
   ]
  },
  {
   "cell_type": "code",
   "execution_count": 22,
   "metadata": {},
   "outputs": [
    {
     "data": {
      "text/plain": [
       "\"Best one: {'init': 'random_uniform', 'batch_size': 25, 'rnn_units': 64}\""
      ]
     },
     "execution_count": 22,
     "metadata": {},
     "output_type": "execute_result"
    }
   ],
   "source": [
    "best_num = 1\n",
    "'Best one: {}'.format(p_options[best_num-1])"
   ]
  },
  {
   "cell_type": "markdown",
   "metadata": {},
   "source": [
    "## Best model"
   ]
  },
  {
   "cell_type": "code",
   "execution_count": 23,
   "metadata": {},
   "outputs": [
    {
     "name": "stdout",
     "output_type": "stream",
     "text": [
      "Model: \"conv_model\"\n",
      "__________________________________________________________________________________________________\n",
      "Layer (type)                    Output Shape         Param #     Connected to                     \n",
      "==================================================================================================\n",
      "features (InputLayer)           [(None, 40, 200)]    0                                            \n",
      "__________________________________________________________________________________________________\n",
      "wt_pos_split (Lambda)           [(None, 13, 200), (N 0           features[0][0]                   \n",
      "__________________________________________________________________________________________________\n",
      "wt_recurrent (LSTM)             (None, 64)           67840       wt_pos_split[0][0]               \n",
      "__________________________________________________________________________________________________\n",
      "pos_recurrent (LSTM)            (None, 64)           67840       wt_pos_split[0][1]               \n",
      "__________________________________________________________________________________________________\n",
      "concatenation (Concatenate)     (None, 128)          0           wt_recurrent[0][0]               \n",
      "                                                                 pos_recurrent[0][0]              \n",
      "__________________________________________________________________________________________________\n",
      "dense_1 (Dense)                 (None, 64)           8256        concatenation[0][0]              \n",
      "__________________________________________________________________________________________________\n",
      "dense_2 (Dense)                 (None, 64)           4160        dense_1[0][0]                    \n",
      "__________________________________________________________________________________________________\n",
      "predictions (Dense)             (None, 2)            130         dense_2[0][0]                    \n",
      "==================================================================================================\n",
      "Total params: 148,226\n",
      "Trainable params: 148,226\n",
      "Non-trainable params: 0\n",
      "__________________________________________________________________________________________________\n"
     ]
    }
   ],
   "source": [
    "model = LSTMModel(wt_card=first_card, input_shape=(40, 200, ))\n",
    "model.summary()"
   ]
  },
  {
   "cell_type": "code",
   "execution_count": 24,
   "metadata": {
    "scrolled": true
   },
   "outputs": [
    {
     "name": "stdout",
     "output_type": "stream",
     "text": [
      "Train on 7728 samples, validate on 3313 samples\n",
      "Epoch 1/10\n",
      "7728/7728 [==============================] - 50s 6ms/sample - loss: 0.1202 - categorical_accuracy: 0.9626 - val_loss: 0.0937 - val_categorical_accuracy: 0.9722\n",
      "Epoch 2/10\n",
      "7728/7728 [==============================] - 19s 3ms/sample - loss: 0.0317 - categorical_accuracy: 0.9885 - val_loss: 0.0769 - val_categorical_accuracy: 0.9765\n",
      "Epoch 3/10\n",
      "7728/7728 [==============================] - 20s 3ms/sample - loss: 0.0257 - categorical_accuracy: 0.9903 - val_loss: 0.0772 - val_categorical_accuracy: 0.9765\n",
      "Epoch 4/10\n",
      "7728/7728 [==============================] - 20s 3ms/sample - loss: 0.0244 - categorical_accuracy: 0.9912 - val_loss: 0.0797 - val_categorical_accuracy: 0.9792\n",
      "Epoch 5/10\n",
      "7728/7728 [==============================] - 20s 3ms/sample - loss: 0.0225 - categorical_accuracy: 0.9915 - val_loss: 0.0691 - val_categorical_accuracy: 0.9834\n",
      "Epoch 6/10\n",
      "7728/7728 [==============================] - 21s 3ms/sample - loss: 0.0222 - categorical_accuracy: 0.9915 - val_loss: 0.0844 - val_categorical_accuracy: 0.9789\n",
      "Epoch 7/10\n",
      "7728/7728 [==============================] - 20s 3ms/sample - loss: 0.0207 - categorical_accuracy: 0.9924 - val_loss: 0.0758 - val_categorical_accuracy: 0.9792\n",
      "Epoch 8/10\n",
      "7728/7728 [==============================] - 21s 3ms/sample - loss: 0.0210 - categorical_accuracy: 0.9925 - val_loss: 0.0975 - val_categorical_accuracy: 0.9780\n",
      "Epoch 9/10\n",
      "7728/7728 [==============================] - 18s 2ms/sample - loss: 0.0201 - categorical_accuracy: 0.9924 - val_loss: 0.1008 - val_categorical_accuracy: 0.9771\n",
      "Epoch 10/10\n",
      "7728/7728 [==============================] - 16s 2ms/sample - loss: 0.0198 - categorical_accuracy: 0.9929 - val_loss: 0.0599 - val_categorical_accuracy: 0.9825\n"
     ]
    }
   ],
   "source": [
    "model.compile()\n",
    "history = model.fit(X_train, y_train, X_test, y_test)\n",
    "#model.save('models/pl_lstm.model')"
   ]
  },
  {
   "cell_type": "code",
   "execution_count": 25,
   "metadata": {},
   "outputs": [],
   "source": [
    "predictions = model.predict(X_test)\n",
    "y_true = tf.argmax(y_test, axis=1)\n",
    "y_pred = tf.argmax(predictions, axis=1)\n",
    "\n",
    "conf_mat = tf.math.confusion_matrix(labels=y_true, predictions=y_pred, num_classes=2).numpy()\n",
    "acc = float(np.sum(np.diag(conf_mat)))/np.sum(np.sum(conf_mat))"
   ]
  },
  {
   "cell_type": "code",
   "execution_count": 26,
   "metadata": {},
   "outputs": [],
   "source": [
    "# save model history, confusion matrix and accuracy\n",
    "model_results = {'acc': history.history['categorical_accuracy'],\n",
    "                 'val_acc': history.history['val_categorical_accuracy'],\n",
    "                 'loss': history.history['loss'],\n",
    "                 'val_loss': history.history['val_loss'],\n",
    "                 'f1s0': model.mc.val_f1s0,\n",
    "                 'f1s1': model.mc.val_f1s1,\n",
    "                 'conf_mat': conf_mat,\n",
    "                 'main_acc': acc}\n",
    "with open('models/pl_lstm_results.pkl', 'w') as f:\n",
    "    pickle.dump(model_results, f)"
   ]
  },
  {
   "cell_type": "markdown",
   "metadata": {},
   "source": [
    "## Visualizations"
   ]
  },
  {
   "cell_type": "code",
   "execution_count": 27,
   "metadata": {},
   "outputs": [],
   "source": [
    "def plots(y_ss, y_labels, colors, title, file_name=None):\n",
    "    x_s = range(1, len(y_ss[0])+1)\n",
    "    for y_s, y_label, color in zip(y_ss, y_labels, colors):\n",
    "        plt.plot(x_s, y_s, color, label=y_label)\n",
    "    plt.xlabel('Epoch')\n",
    "    plt.ylabel('Metrics')\n",
    "    tick_marks = np.arange(1, len(x_s) + 1)\n",
    "    plt.xticks(tick_marks, x_s)\n",
    "    plt.title(title)\n",
    "    \n",
    "    plt.legend(loc='best', frameon=False)\n",
    "    \n",
    "    if file_name:\n",
    "        plt.savefig(file_name)\n",
    "    plt.show()\n",
    "\n",
    "def twinx_plot(y11_s, y12_s, y21_s, y22_s, x_label, y1_label,y2_label, title,\n",
    "               styles=['r-', 'r--', 'b-', 'b--'], colors=['r', 'b'], file_name=None):\n",
    "    fig, ax1 = plt.subplots()\n",
    "    \n",
    "    ax1.set_xlabel(x_label)\n",
    "    ax1.set_xticks(range(1, len(y11_s)+1))\n",
    "    \n",
    "    ax1.set_ylabel(y1_label, color=colors[0])\n",
    "    ax1.plot(range(1, len(y11_s)+1), y11_s, styles[0], label='train acc.')\n",
    "    ax1.plot(range(1, len(y12_s)+1), y12_s, styles[1], label='valid. acc.')\n",
    "    ax1.tick_params(axis='y', labelcolor=colors[0])\n",
    "    \n",
    "    ax2 = ax1.twinx()  # instantiate a second axes that shares the same x-axis\n",
    "    \n",
    "    ax2.set_ylabel(y2_label, color=colors[1])  # we already handled the x-label with ax1\n",
    "    ax2.plot(range(1, len(y21_s)+1), y21_s, styles[2], label='train loss')\n",
    "    ax2.plot(range(1, len(y22_s)+1), y22_s, styles[3], label='valid. loss')\n",
    "    ax2.tick_params(axis='y', labelcolor=colors[1])\n",
    "    \n",
    "    fig.tight_layout()  # otherwise the right y-label is slightly clipped\n",
    "    fig.legend(loc='right', bbox_to_anchor=(0.85, 0.5))\n",
    "    plt.title(title)\n",
    "    \n",
    "    if file_name:\n",
    "        plt.savefig(file_name)\n",
    "    plt.show()\n",
    "\n",
    "def confusion_matrix_plot(conf_mat, cls, x_label, y_label, title, file_name=None):\n",
    "    plt.imshow(conf_mat, interpolation='nearest', cmap=plt.cm.Wistia)\n",
    "    plt.title(title)\n",
    "    plt.ylabel(y_label)\n",
    "    plt.xlabel(x_label)\n",
    "    tick_marks = np.arange(len(cls))\n",
    "    plt.grid(False)\n",
    "    plt.xticks(tick_marks, cls, rotation=45)\n",
    "    plt.yticks(tick_marks, cls)\n",
    "    \n",
    "    for i in range(len(cls)):\n",
    "        for j in range(len(cls)):\n",
    "            plt.text(j - 0.2, i, str(conf_mat[i][j]), fontsize=16)\n",
    "    \n",
    "    if file_name:\n",
    "        plt.savefig(file_name)\n",
    "    plt.show()\n",
    "\n",
    "def class_distribution_hist(y_true, y_pred, cls, x_label, y_label, title, file_name=None):\n",
    "    pd.Series([y_true, y_pred]).hist()\n",
    "    plt.title(title)\n",
    "    plt.ylabel(y_label)\n",
    "    plt.xlabel(x_label)\n",
    "    tick_marks = np.arange(len(cls))\n",
    "    plt.xticks(tick_marks, cls)\n",
    "    plt.legend(labels=['Real', 'Predicted'], loc='best')\n",
    "    \n",
    "    if file_name:\n",
    "        plt.savefig(file_name)\n",
    "    plt.show()"
   ]
  },
  {
   "cell_type": "code",
   "execution_count": 28,
   "metadata": {},
   "outputs": [],
   "source": [
    "classes = ['no hate', 'hate speech']"
   ]
  },
  {
   "cell_type": "code",
   "execution_count": 29,
   "metadata": {},
   "outputs": [
    {
     "data": {
      "image/png": "[encoded data removed]",
      "text/plain": [
       "<Figure size 432x288 with 1 Axes>"
      ]
     },
     "metadata": {
      "needs_background": "light"
     },
     "output_type": "display_data"
    }
   ],
   "source": [
    "plots([history.history['categorical_accuracy'],\n",
    "       history.history['val_categorical_accuracy'],\n",
    "       model.mc.val_f1s0,\n",
    "       model.mc.val_f1s1],\n",
    "      ['training acc.', 'validation acc.', 'no-hate f1 score', 'hate-speech f1 score'],\n",
    "      ['-r', '--r', 'b', 'm'],\n",
    "      title='Training progress', file_name='results/pl_lstm/train_progress.png')"
   ]
  },
  {
   "cell_type": "code",
   "execution_count": 30,
   "metadata": {},
   "outputs": [
    {
     "data": {
      "image/png": "[encoded data removed]",
      "text/plain": [
       "<Figure size 432x288 with 2 Axes>"
      ]
     },
     "metadata": {
      "needs_background": "light"
     },
     "output_type": "display_data"
    }
   ],
   "source": [
    "twinx_plot(history.history['categorical_accuracy'], history.history['val_categorical_accuracy'],\n",
    "           history.history['loss'], history.history['val_loss'],\n",
    "          x_label='Epoch', y1_label='Accuracy', y2_label='Loss', title='Accuracy & loss / epoch',\n",
    "          file_name='results/pl_lstm/acc_loss.png')"
   ]
  },
  {
   "cell_type": "code",
   "execution_count": 31,
   "metadata": {},
   "outputs": [
    {
     "data": {
      "image/png": "[encoded data removed]",
      "text/plain": [
       "<Figure size 432x288 with 1 Axes>"
      ]
     },
     "metadata": {
      "needs_background": "light"
     },
     "output_type": "display_data"
    }
   ],
   "source": [
    "confusion_matrix_plot(conf_mat, cls=classes,\n",
    "                      x_label='Real', y_label='Predicted',\n",
    "                      title='Accuracy: {}'.format(round(acc, 2)),\n",
    "                      file_name='results/pl_lstm/cm.png')"
   ]
  },
  {
   "cell_type": "code",
   "execution_count": 32,
   "metadata": {},
   "outputs": [
    {
     "data": {
      "image/png": "[encoded data removed]",
      "text/plain": [
       "<Figure size 432x288 with 1 Axes>"
      ]
     },
     "metadata": {
      "needs_background": "light"
     },
     "output_type": "display_data"
    }
   ],
   "source": [
    "class_distribution_hist(y_true, y_pred, cls=classes,\n",
    "                        x_label='Classes', y_label='Cardinality', title='Real and pred. classes cards.',\n",
    "                        file_name='results/pl_lstm/cards.png')"
   ]
  },
  {
   "cell_type": "code",
   "execution_count": null,
   "metadata": {},
   "outputs": [],
   "source": []
  }
 ],
 "metadata": {
  "kernelspec": {
   "display_name": "Python 3",
   "language": "python",
   "name": "python3"
  },
  "language_info": {
   "codemirror_mode": {
    "name": "ipython",
    "version": 2
   },
   "file_extension": ".py",
   "mimetype": "text/x-python",
   "name": "python",
   "nbconvert_exporter": "python",
   "pygments_lexer": "ipython2",
   "version": "2.7.15+"
  }
 },
 "nbformat": 4,
 "nbformat_minor": 2
}
